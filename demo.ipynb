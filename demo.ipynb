{
 "cells": [
  {
   "cell_type": "code",
   "execution_count": null,
   "id": "cc952246",
   "metadata": {},
   "outputs": [],
   "source": [
    "!pip install -q mlbench"
   ]
  },
  {
   "cell_type": "code",
   "execution_count": 2,
   "id": "c239f9d1",
   "metadata": {
    "scrolled": false
   },
   "outputs": [],
   "source": [
    "import mlbench"
   ]
  },
  {
   "cell_type": "markdown",
   "id": "11cd8997",
   "metadata": {},
   "source": [
    "## basics"
   ]
  },
  {
   "cell_type": "markdown",
   "id": "d7c73001",
   "metadata": {},
   "source": [
    "### let's start with a tiny 2-instance binary classification dataset"
   ]
  },
  {
   "cell_type": "code",
   "execution_count": 3,
   "id": "65f96836",
   "metadata": {},
   "outputs": [
    {
     "data": {
      "text/plain": [
       "BalancedAccuracyBinary(✅ 1.00 does beat the baseline 0.50 (100%), ❌ not stat sig , 1 experiment metric: 1.0, 2 data instances 👎)"
      ]
     },
     "execution_count": 3,
     "metadata": {},
     "output_type": "execute_result"
    }
   ],
   "source": [
    "m = mlbench.eval_binary(\n",
    "    y_true=[True, False],\n",
    "    y_pred=[True, False],\n",
    ")\n",
    "m"
   ]
  },
  {
   "cell_type": "code",
   "execution_count": 4,
   "id": "aa99c71c",
   "metadata": {},
   "outputs": [
    {
     "data": {
      "text/html": [
       "<div>\n",
       "<style scoped>\n",
       "    .dataframe tbody tr th:only-of-type {\n",
       "        vertical-align: middle;\n",
       "    }\n",
       "\n",
       "    .dataframe tbody tr th {\n",
       "        vertical-align: top;\n",
       "    }\n",
       "\n",
       "    .dataframe thead th {\n",
       "        text-align: right;\n",
       "    }\n",
       "</style>\n",
       "<table border=\"1\" class=\"dataframe\">\n",
       "  <thead>\n",
       "    <tr style=\"text-align: right;\">\n",
       "      <th></th>\n",
       "      <th>pass</th>\n",
       "      <th>value</th>\n",
       "      <th>threshold</th>\n",
       "      <th>gain</th>\n",
       "    </tr>\n",
       "    <tr>\n",
       "      <th>check</th>\n",
       "      <th></th>\n",
       "      <th></th>\n",
       "      <th></th>\n",
       "      <th></th>\n",
       "    </tr>\n",
       "  </thead>\n",
       "  <tbody>\n",
       "    <tr>\n",
       "      <th>beat baseline</th>\n",
       "      <td>✅</td>\n",
       "      <td>1.0</td>\n",
       "      <td>0.50</td>\n",
       "      <td>0.5</td>\n",
       "    </tr>\n",
       "    <tr>\n",
       "      <th>stat sig</th>\n",
       "      <td>❌</td>\n",
       "      <td>NaN</td>\n",
       "      <td>0.05</td>\n",
       "      <td>NaN</td>\n",
       "    </tr>\n",
       "    <tr>\n",
       "      <th>experiment count</th>\n",
       "      <td>❌</td>\n",
       "      <td>1.0</td>\n",
       "      <td>3.00</td>\n",
       "      <td>-2.0</td>\n",
       "    </tr>\n",
       "    <tr>\n",
       "      <th>data size</th>\n",
       "      <td>❌</td>\n",
       "      <td>2.0</td>\n",
       "      <td>100.00</td>\n",
       "      <td>-98.0</td>\n",
       "    </tr>\n",
       "  </tbody>\n",
       "</table>\n",
       "</div>"
      ],
      "text/plain": [
       "                 pass  value  threshold  gain\n",
       "check                                        \n",
       "beat baseline       ✅    1.0       0.50   0.5\n",
       "stat sig            ❌    NaN       0.05   NaN\n",
       "experiment count    ❌    1.0       3.00  -2.0\n",
       "data size           ❌    2.0     100.00 -98.0"
      ]
     },
     "execution_count": 4,
     "metadata": {},
     "output_type": "execute_result"
    }
   ],
   "source": [
    "m.report"
   ]
  },
  {
   "cell_type": "markdown",
   "id": "15975df3",
   "metadata": {},
   "source": [
    "- predictions and ground truth are exactly the same, so [Balanced Accuracy](https://scikit-learn.org/stable/modules/generated/sklearn.metrics.balanced_accuracy_score.html) (BA) is 1.0 (max possible).\n",
    "- baseline for BA is 0.5\n",
    "- 100% (i.e. 1 out of 1) of the experiments (we'll see more about this soon) beat the baseline\n",
    "- the results are not considered stat sig since we only have 1 experiment\n",
    "- we only have 2 data instances, which is not great (we need moar)"
   ]
  },
  {
   "cell_type": "markdown",
   "id": "90965f07",
   "metadata": {},
   "source": [
    "### why did you compute Balanced Accuracy?\n",
    "prefer some other metric? here's how to get the other available options"
   ]
  },
  {
   "cell_type": "code",
   "execution_count": 5,
   "id": "e3f3a086",
   "metadata": {},
   "outputs": [
    {
     "data": {
      "text/plain": [
       "{'accuracy', 'auroc', 'average_precision', 'balanced_accuracy'}"
      ]
     },
     "execution_count": 5,
     "metadata": {},
     "output_type": "execute_result"
    }
   ],
   "source": [
    "mlbench.get_eval_binary_metrics()"
   ]
  },
  {
   "cell_type": "markdown",
   "id": "98ff5d8e",
   "metadata": {},
   "source": [
    "### let's try [average precision](https://medium.com/@amirziai/ranking-metrics-from-first-principles-average-precision-32ad65fd18b6)"
   ]
  },
  {
   "cell_type": "code",
   "execution_count": 6,
   "id": "29d1a453",
   "metadata": {},
   "outputs": [
    {
     "data": {
      "text/html": [
       "<div>\n",
       "<style scoped>\n",
       "    .dataframe tbody tr th:only-of-type {\n",
       "        vertical-align: middle;\n",
       "    }\n",
       "\n",
       "    .dataframe tbody tr th {\n",
       "        vertical-align: top;\n",
       "    }\n",
       "\n",
       "    .dataframe thead th {\n",
       "        text-align: right;\n",
       "    }\n",
       "</style>\n",
       "<table border=\"1\" class=\"dataframe\">\n",
       "  <thead>\n",
       "    <tr style=\"text-align: right;\">\n",
       "      <th></th>\n",
       "      <th>pass</th>\n",
       "      <th>value</th>\n",
       "      <th>threshold</th>\n",
       "      <th>gain</th>\n",
       "    </tr>\n",
       "    <tr>\n",
       "      <th>check</th>\n",
       "      <th></th>\n",
       "      <th></th>\n",
       "      <th></th>\n",
       "      <th></th>\n",
       "    </tr>\n",
       "  </thead>\n",
       "  <tbody>\n",
       "    <tr>\n",
       "      <th>beat baseline</th>\n",
       "      <td>✅</td>\n",
       "      <td>1.0</td>\n",
       "      <td>0.75</td>\n",
       "      <td>0.25</td>\n",
       "    </tr>\n",
       "    <tr>\n",
       "      <th>stat sig</th>\n",
       "      <td>❌</td>\n",
       "      <td>NaN</td>\n",
       "      <td>0.05</td>\n",
       "      <td>NaN</td>\n",
       "    </tr>\n",
       "    <tr>\n",
       "      <th>experiment count</th>\n",
       "      <td>❌</td>\n",
       "      <td>1.0</td>\n",
       "      <td>3.00</td>\n",
       "      <td>-2.00</td>\n",
       "    </tr>\n",
       "    <tr>\n",
       "      <th>data size</th>\n",
       "      <td>❌</td>\n",
       "      <td>2.0</td>\n",
       "      <td>100.00</td>\n",
       "      <td>-98.00</td>\n",
       "    </tr>\n",
       "  </tbody>\n",
       "</table>\n",
       "</div>"
      ],
      "text/plain": [
       "                 pass  value  threshold   gain\n",
       "check                                         \n",
       "beat baseline       ✅    1.0       0.75   0.25\n",
       "stat sig            ❌    NaN       0.05    NaN\n",
       "experiment count    ❌    1.0       3.00  -2.00\n",
       "data size           ❌    2.0     100.00 -98.00"
      ]
     },
     "execution_count": 6,
     "metadata": {},
     "output_type": "execute_result"
    }
   ],
   "source": [
    "mlbench.eval_binary(\n",
    "    y_true=[True, False],\n",
    "    y_pred=[0.99, 0.2],\n",
    "    metric=\"average_precision\",\n",
    ").report"
   ]
  },
  {
   "cell_type": "markdown",
   "id": "060ff419",
   "metadata": {},
   "source": [
    "### how do I run more than 1 experiment?"
   ]
  },
  {
   "cell_type": "code",
   "execution_count": 7,
   "id": "1d5ba868",
   "metadata": {},
   "outputs": [
    {
     "data": {
      "text/html": [
       "<div>\n",
       "<style scoped>\n",
       "    .dataframe tbody tr th:only-of-type {\n",
       "        vertical-align: middle;\n",
       "    }\n",
       "\n",
       "    .dataframe tbody tr th {\n",
       "        vertical-align: top;\n",
       "    }\n",
       "\n",
       "    .dataframe thead th {\n",
       "        text-align: right;\n",
       "    }\n",
       "</style>\n",
       "<table border=\"1\" class=\"dataframe\">\n",
       "  <thead>\n",
       "    <tr style=\"text-align: right;\">\n",
       "      <th></th>\n",
       "      <th>pass</th>\n",
       "      <th>value</th>\n",
       "      <th>threshold</th>\n",
       "      <th>gain</th>\n",
       "    </tr>\n",
       "    <tr>\n",
       "      <th>check</th>\n",
       "      <th></th>\n",
       "      <th></th>\n",
       "      <th></th>\n",
       "      <th></th>\n",
       "    </tr>\n",
       "  </thead>\n",
       "  <tbody>\n",
       "    <tr>\n",
       "      <th>beat baseline</th>\n",
       "      <td>✅</td>\n",
       "      <td>1.0</td>\n",
       "      <td>0.50</td>\n",
       "      <td>0.50</td>\n",
       "    </tr>\n",
       "    <tr>\n",
       "      <th>stat sig</th>\n",
       "      <td>✅</td>\n",
       "      <td>0.0</td>\n",
       "      <td>0.05</td>\n",
       "      <td>0.05</td>\n",
       "    </tr>\n",
       "    <tr>\n",
       "      <th>experiment count</th>\n",
       "      <td>✅</td>\n",
       "      <td>3.0</td>\n",
       "      <td>3.00</td>\n",
       "      <td>0.00</td>\n",
       "    </tr>\n",
       "    <tr>\n",
       "      <th>data size</th>\n",
       "      <td>❌</td>\n",
       "      <td>2.0</td>\n",
       "      <td>100.00</td>\n",
       "      <td>-98.00</td>\n",
       "    </tr>\n",
       "  </tbody>\n",
       "</table>\n",
       "</div>"
      ],
      "text/plain": [
       "                 pass  value  threshold   gain\n",
       "check                                         \n",
       "beat baseline       ✅    1.0       0.50   0.50\n",
       "stat sig            ✅    0.0       0.05   0.05\n",
       "experiment count    ✅    3.0       3.00   0.00\n",
       "data size           ❌    2.0     100.00 -98.00"
      ]
     },
     "execution_count": 7,
     "metadata": {},
     "output_type": "execute_result"
    }
   ],
   "source": [
    "mlbench.eval_binary(\n",
    "    y_true=[True, False],\n",
    "    y_pred=[[True, False], [True, False], [True, False]],\n",
    "    metric=\"balanced_accuracy\",\n",
    ").report"
   ]
  },
  {
   "cell_type": "markdown",
   "id": "7d5da905",
   "metadata": {},
   "source": [
    "- `y_pred` can be a list of lists (or numpy arrays)\n",
    "- each element in the outer list represents an experiment\n",
    "- e.g. in this example we've done 3 experiments\n",
    "- since all 3 are perfect predictions there's no variance and the results are stat sig"
   ]
  },
  {
   "cell_type": "markdown",
   "id": "22e1031b",
   "metadata": {},
   "source": [
    "## toy dataset\n",
    "let's try something a bit more realistic"
   ]
  },
  {
   "cell_type": "code",
   "execution_count": 8,
   "id": "05f07f38",
   "metadata": {},
   "outputs": [],
   "source": [
    "import numpy as np\n",
    "import pandas as pd"
   ]
  },
  {
   "cell_type": "code",
   "execution_count": 9,
   "id": "719d7b5b",
   "metadata": {},
   "outputs": [],
   "source": [
    "from sklearn.datasets import load_breast_cancer"
   ]
  },
  {
   "cell_type": "markdown",
   "id": "69211bd4",
   "metadata": {},
   "source": [
    "### a binary classification task"
   ]
  },
  {
   "cell_type": "code",
   "execution_count": 10,
   "id": "5144ca7b",
   "metadata": {},
   "outputs": [
    {
     "data": {
      "text/plain": [
       "(569, 30)"
      ]
     },
     "execution_count": 10,
     "metadata": {},
     "output_type": "execute_result"
    }
   ],
   "source": [
    "data = load_breast_cancer()\n",
    "x, y = data.data, data.target.astype(bool)\n",
    "x.shape"
   ]
  },
  {
   "cell_type": "markdown",
   "id": "73ca34c8",
   "metadata": {},
   "source": [
    "### this is what the features look like for reference\n",
    "we're not going to use the features tho, it's just to give you an idea."
   ]
  },
  {
   "cell_type": "code",
   "execution_count": 11,
   "id": "098a93c2",
   "metadata": {},
   "outputs": [
    {
     "data": {
      "text/html": [
       "<div>\n",
       "<style scoped>\n",
       "    .dataframe tbody tr th:only-of-type {\n",
       "        vertical-align: middle;\n",
       "    }\n",
       "\n",
       "    .dataframe tbody tr th {\n",
       "        vertical-align: top;\n",
       "    }\n",
       "\n",
       "    .dataframe thead th {\n",
       "        text-align: right;\n",
       "    }\n",
       "</style>\n",
       "<table border=\"1\" class=\"dataframe\">\n",
       "  <thead>\n",
       "    <tr style=\"text-align: right;\">\n",
       "      <th></th>\n",
       "      <th>0</th>\n",
       "      <th>1</th>\n",
       "      <th>2</th>\n",
       "      <th>3</th>\n",
       "      <th>4</th>\n",
       "      <th>5</th>\n",
       "      <th>6</th>\n",
       "      <th>7</th>\n",
       "      <th>8</th>\n",
       "      <th>9</th>\n",
       "      <th>...</th>\n",
       "      <th>20</th>\n",
       "      <th>21</th>\n",
       "      <th>22</th>\n",
       "      <th>23</th>\n",
       "      <th>24</th>\n",
       "      <th>25</th>\n",
       "      <th>26</th>\n",
       "      <th>27</th>\n",
       "      <th>28</th>\n",
       "      <th>29</th>\n",
       "    </tr>\n",
       "  </thead>\n",
       "  <tbody>\n",
       "    <tr>\n",
       "      <th>0</th>\n",
       "      <td>17.99</td>\n",
       "      <td>10.38</td>\n",
       "      <td>122.80</td>\n",
       "      <td>1001.0</td>\n",
       "      <td>0.11840</td>\n",
       "      <td>0.27760</td>\n",
       "      <td>0.3001</td>\n",
       "      <td>0.14710</td>\n",
       "      <td>0.2419</td>\n",
       "      <td>0.07871</td>\n",
       "      <td>...</td>\n",
       "      <td>25.38</td>\n",
       "      <td>17.33</td>\n",
       "      <td>184.60</td>\n",
       "      <td>2019.0</td>\n",
       "      <td>0.1622</td>\n",
       "      <td>0.6656</td>\n",
       "      <td>0.7119</td>\n",
       "      <td>0.2654</td>\n",
       "      <td>0.4601</td>\n",
       "      <td>0.11890</td>\n",
       "    </tr>\n",
       "    <tr>\n",
       "      <th>1</th>\n",
       "      <td>20.57</td>\n",
       "      <td>17.77</td>\n",
       "      <td>132.90</td>\n",
       "      <td>1326.0</td>\n",
       "      <td>0.08474</td>\n",
       "      <td>0.07864</td>\n",
       "      <td>0.0869</td>\n",
       "      <td>0.07017</td>\n",
       "      <td>0.1812</td>\n",
       "      <td>0.05667</td>\n",
       "      <td>...</td>\n",
       "      <td>24.99</td>\n",
       "      <td>23.41</td>\n",
       "      <td>158.80</td>\n",
       "      <td>1956.0</td>\n",
       "      <td>0.1238</td>\n",
       "      <td>0.1866</td>\n",
       "      <td>0.2416</td>\n",
       "      <td>0.1860</td>\n",
       "      <td>0.2750</td>\n",
       "      <td>0.08902</td>\n",
       "    </tr>\n",
       "    <tr>\n",
       "      <th>2</th>\n",
       "      <td>19.69</td>\n",
       "      <td>21.25</td>\n",
       "      <td>130.00</td>\n",
       "      <td>1203.0</td>\n",
       "      <td>0.10960</td>\n",
       "      <td>0.15990</td>\n",
       "      <td>0.1974</td>\n",
       "      <td>0.12790</td>\n",
       "      <td>0.2069</td>\n",
       "      <td>0.05999</td>\n",
       "      <td>...</td>\n",
       "      <td>23.57</td>\n",
       "      <td>25.53</td>\n",
       "      <td>152.50</td>\n",
       "      <td>1709.0</td>\n",
       "      <td>0.1444</td>\n",
       "      <td>0.4245</td>\n",
       "      <td>0.4504</td>\n",
       "      <td>0.2430</td>\n",
       "      <td>0.3613</td>\n",
       "      <td>0.08758</td>\n",
       "    </tr>\n",
       "    <tr>\n",
       "      <th>3</th>\n",
       "      <td>11.42</td>\n",
       "      <td>20.38</td>\n",
       "      <td>77.58</td>\n",
       "      <td>386.1</td>\n",
       "      <td>0.14250</td>\n",
       "      <td>0.28390</td>\n",
       "      <td>0.2414</td>\n",
       "      <td>0.10520</td>\n",
       "      <td>0.2597</td>\n",
       "      <td>0.09744</td>\n",
       "      <td>...</td>\n",
       "      <td>14.91</td>\n",
       "      <td>26.50</td>\n",
       "      <td>98.87</td>\n",
       "      <td>567.7</td>\n",
       "      <td>0.2098</td>\n",
       "      <td>0.8663</td>\n",
       "      <td>0.6869</td>\n",
       "      <td>0.2575</td>\n",
       "      <td>0.6638</td>\n",
       "      <td>0.17300</td>\n",
       "    </tr>\n",
       "    <tr>\n",
       "      <th>4</th>\n",
       "      <td>20.29</td>\n",
       "      <td>14.34</td>\n",
       "      <td>135.10</td>\n",
       "      <td>1297.0</td>\n",
       "      <td>0.10030</td>\n",
       "      <td>0.13280</td>\n",
       "      <td>0.1980</td>\n",
       "      <td>0.10430</td>\n",
       "      <td>0.1809</td>\n",
       "      <td>0.05883</td>\n",
       "      <td>...</td>\n",
       "      <td>22.54</td>\n",
       "      <td>16.67</td>\n",
       "      <td>152.20</td>\n",
       "      <td>1575.0</td>\n",
       "      <td>0.1374</td>\n",
       "      <td>0.2050</td>\n",
       "      <td>0.4000</td>\n",
       "      <td>0.1625</td>\n",
       "      <td>0.2364</td>\n",
       "      <td>0.07678</td>\n",
       "    </tr>\n",
       "  </tbody>\n",
       "</table>\n",
       "<p>5 rows × 30 columns</p>\n",
       "</div>"
      ],
      "text/plain": [
       "      0      1       2       3        4        5       6        7       8   \\\n",
       "0  17.99  10.38  122.80  1001.0  0.11840  0.27760  0.3001  0.14710  0.2419   \n",
       "1  20.57  17.77  132.90  1326.0  0.08474  0.07864  0.0869  0.07017  0.1812   \n",
       "2  19.69  21.25  130.00  1203.0  0.10960  0.15990  0.1974  0.12790  0.2069   \n",
       "3  11.42  20.38   77.58   386.1  0.14250  0.28390  0.2414  0.10520  0.2597   \n",
       "4  20.29  14.34  135.10  1297.0  0.10030  0.13280  0.1980  0.10430  0.1809   \n",
       "\n",
       "        9   ...     20     21      22      23      24      25      26      27  \\\n",
       "0  0.07871  ...  25.38  17.33  184.60  2019.0  0.1622  0.6656  0.7119  0.2654   \n",
       "1  0.05667  ...  24.99  23.41  158.80  1956.0  0.1238  0.1866  0.2416  0.1860   \n",
       "2  0.05999  ...  23.57  25.53  152.50  1709.0  0.1444  0.4245  0.4504  0.2430   \n",
       "3  0.09744  ...  14.91  26.50   98.87   567.7  0.2098  0.8663  0.6869  0.2575   \n",
       "4  0.05883  ...  22.54  16.67  152.20  1575.0  0.1374  0.2050  0.4000  0.1625   \n",
       "\n",
       "       28       29  \n",
       "0  0.4601  0.11890  \n",
       "1  0.2750  0.08902  \n",
       "2  0.3613  0.08758  \n",
       "3  0.6638  0.17300  \n",
       "4  0.2364  0.07678  \n",
       "\n",
       "[5 rows x 30 columns]"
      ]
     },
     "execution_count": 11,
     "metadata": {},
     "output_type": "execute_result"
    }
   ],
   "source": [
    "pd.DataFrame(x).head()"
   ]
  },
  {
   "cell_type": "markdown",
   "id": "b6a2c976",
   "metadata": {},
   "source": [
    "### labels are binary"
   ]
  },
  {
   "cell_type": "code",
   "execution_count": 12,
   "id": "3180e662",
   "metadata": {},
   "outputs": [
    {
     "data": {
      "text/plain": [
       "array([False, False, False, False, False])"
      ]
     },
     "execution_count": 12,
     "metadata": {},
     "output_type": "execute_result"
    }
   ],
   "source": [
    "y[:5]"
   ]
  },
  {
   "cell_type": "markdown",
   "id": "2d967b05",
   "metadata": {},
   "source": [
    "### positive rate"
   ]
  },
  {
   "cell_type": "code",
   "execution_count": 13,
   "id": "38d04861",
   "metadata": {},
   "outputs": [
    {
     "data": {
      "text/plain": [
       "0.6274165202108963"
      ]
     },
     "execution_count": 13,
     "metadata": {},
     "output_type": "execute_result"
    }
   ],
   "source": [
    "np.mean(y)"
   ]
  },
  {
   "cell_type": "markdown",
   "id": "8bf3cfc2",
   "metadata": {},
   "source": [
    "### how would a constant predictor do?\n",
    "this predictor always predicts the majority class"
   ]
  },
  {
   "cell_type": "code",
   "execution_count": 14,
   "id": "daa62e05",
   "metadata": {},
   "outputs": [],
   "source": [
    "y_constant_true = [True] * len(y)"
   ]
  },
  {
   "cell_type": "code",
   "execution_count": 15,
   "id": "7d9409a5",
   "metadata": {},
   "outputs": [
    {
     "data": {
      "text/html": [
       "<div>\n",
       "<style scoped>\n",
       "    .dataframe tbody tr th:only-of-type {\n",
       "        vertical-align: middle;\n",
       "    }\n",
       "\n",
       "    .dataframe tbody tr th {\n",
       "        vertical-align: top;\n",
       "    }\n",
       "\n",
       "    .dataframe thead th {\n",
       "        text-align: right;\n",
       "    }\n",
       "</style>\n",
       "<table border=\"1\" class=\"dataframe\">\n",
       "  <thead>\n",
       "    <tr style=\"text-align: right;\">\n",
       "      <th></th>\n",
       "      <th>pass</th>\n",
       "      <th>value</th>\n",
       "      <th>threshold</th>\n",
       "      <th>gain</th>\n",
       "    </tr>\n",
       "    <tr>\n",
       "      <th>check</th>\n",
       "      <th></th>\n",
       "      <th></th>\n",
       "      <th></th>\n",
       "      <th></th>\n",
       "    </tr>\n",
       "  </thead>\n",
       "  <tbody>\n",
       "    <tr>\n",
       "      <th>beat baseline</th>\n",
       "      <td>❌</td>\n",
       "      <td>0.5</td>\n",
       "      <td>0.50</td>\n",
       "      <td>0.0</td>\n",
       "    </tr>\n",
       "    <tr>\n",
       "      <th>stat sig</th>\n",
       "      <td>❌</td>\n",
       "      <td>NaN</td>\n",
       "      <td>0.05</td>\n",
       "      <td>NaN</td>\n",
       "    </tr>\n",
       "    <tr>\n",
       "      <th>experiment count</th>\n",
       "      <td>❌</td>\n",
       "      <td>1.0</td>\n",
       "      <td>3.00</td>\n",
       "      <td>-2.0</td>\n",
       "    </tr>\n",
       "    <tr>\n",
       "      <th>data size</th>\n",
       "      <td>✅</td>\n",
       "      <td>569.0</td>\n",
       "      <td>100.00</td>\n",
       "      <td>469.0</td>\n",
       "    </tr>\n",
       "  </tbody>\n",
       "</table>\n",
       "</div>"
      ],
      "text/plain": [
       "                 pass  value  threshold   gain\n",
       "check                                         \n",
       "beat baseline       ❌    0.5       0.50    0.0\n",
       "stat sig            ❌    NaN       0.05    NaN\n",
       "experiment count    ❌    1.0       3.00   -2.0\n",
       "data size           ✅  569.0     100.00  469.0"
      ]
     },
     "execution_count": 15,
     "metadata": {},
     "output_type": "execute_result"
    }
   ],
   "source": [
    "mlbench.eval_binary(\n",
    "    y_true=y,\n",
    "    y_pred=y_constant_true,\n",
    ").report"
   ]
  },
  {
   "cell_type": "markdown",
   "id": "0a6e3b00",
   "metadata": {},
   "source": [
    "### how would a random predictor do?"
   ]
  },
  {
   "cell_type": "code",
   "execution_count": 16,
   "id": "427bdb9a",
   "metadata": {},
   "outputs": [],
   "source": [
    "def get_y_rand(y):\n",
    "    p = np.mean(y)\n",
    "    return np.random.choice([True, False], size=len(y), p=[p, 1-p])"
   ]
  },
  {
   "cell_type": "markdown",
   "id": "458cb03f",
   "metadata": {},
   "source": [
    "### you'd expect to get 0.5"
   ]
  },
  {
   "cell_type": "code",
   "execution_count": 17,
   "id": "2d94e5f3",
   "metadata": {},
   "outputs": [
    {
     "data": {
      "text/html": [
       "<div>\n",
       "<style scoped>\n",
       "    .dataframe tbody tr th:only-of-type {\n",
       "        vertical-align: middle;\n",
       "    }\n",
       "\n",
       "    .dataframe tbody tr th {\n",
       "        vertical-align: top;\n",
       "    }\n",
       "\n",
       "    .dataframe thead th {\n",
       "        text-align: right;\n",
       "    }\n",
       "</style>\n",
       "<table border=\"1\" class=\"dataframe\">\n",
       "  <thead>\n",
       "    <tr style=\"text-align: right;\">\n",
       "      <th></th>\n",
       "      <th>pass</th>\n",
       "      <th>value</th>\n",
       "      <th>threshold</th>\n",
       "      <th>gain</th>\n",
       "    </tr>\n",
       "    <tr>\n",
       "      <th>check</th>\n",
       "      <th></th>\n",
       "      <th></th>\n",
       "      <th></th>\n",
       "      <th></th>\n",
       "    </tr>\n",
       "  </thead>\n",
       "  <tbody>\n",
       "    <tr>\n",
       "      <th>beat baseline</th>\n",
       "      <td>❌</td>\n",
       "      <td>0.499531</td>\n",
       "      <td>0.50</td>\n",
       "      <td>-0.000469</td>\n",
       "    </tr>\n",
       "    <tr>\n",
       "      <th>stat sig</th>\n",
       "      <td>❌</td>\n",
       "      <td>NaN</td>\n",
       "      <td>0.05</td>\n",
       "      <td>NaN</td>\n",
       "    </tr>\n",
       "    <tr>\n",
       "      <th>experiment count</th>\n",
       "      <td>❌</td>\n",
       "      <td>1.000000</td>\n",
       "      <td>3.00</td>\n",
       "      <td>-2.000000</td>\n",
       "    </tr>\n",
       "    <tr>\n",
       "      <th>data size</th>\n",
       "      <td>✅</td>\n",
       "      <td>569.000000</td>\n",
       "      <td>100.00</td>\n",
       "      <td>469.000000</td>\n",
       "    </tr>\n",
       "  </tbody>\n",
       "</table>\n",
       "</div>"
      ],
      "text/plain": [
       "                 pass       value  threshold        gain\n",
       "check                                                   \n",
       "beat baseline       ❌    0.499531       0.50   -0.000469\n",
       "stat sig            ❌         NaN       0.05         NaN\n",
       "experiment count    ❌    1.000000       3.00   -2.000000\n",
       "data size           ✅  569.000000     100.00  469.000000"
      ]
     },
     "execution_count": 17,
     "metadata": {},
     "output_type": "execute_result"
    }
   ],
   "source": [
    "np.random.seed(0)\n",
    "mlbench.eval_binary(\n",
    "    y_true=y,\n",
    "    y_pred=get_y_rand(y),\n",
    ").report"
   ]
  },
  {
   "cell_type": "markdown",
   "id": "47345f23",
   "metadata": {},
   "source": [
    "### not always tho, it's random after all"
   ]
  },
  {
   "cell_type": "code",
   "execution_count": 18,
   "id": "3c1667a6",
   "metadata": {},
   "outputs": [
    {
     "data": {
      "text/html": [
       "<div>\n",
       "<style scoped>\n",
       "    .dataframe tbody tr th:only-of-type {\n",
       "        vertical-align: middle;\n",
       "    }\n",
       "\n",
       "    .dataframe tbody tr th {\n",
       "        vertical-align: top;\n",
       "    }\n",
       "\n",
       "    .dataframe thead th {\n",
       "        text-align: right;\n",
       "    }\n",
       "</style>\n",
       "<table border=\"1\" class=\"dataframe\">\n",
       "  <thead>\n",
       "    <tr style=\"text-align: right;\">\n",
       "      <th></th>\n",
       "      <th>pass</th>\n",
       "      <th>value</th>\n",
       "      <th>threshold</th>\n",
       "      <th>gain</th>\n",
       "    </tr>\n",
       "    <tr>\n",
       "      <th>check</th>\n",
       "      <th></th>\n",
       "      <th></th>\n",
       "      <th></th>\n",
       "      <th></th>\n",
       "    </tr>\n",
       "  </thead>\n",
       "  <tbody>\n",
       "    <tr>\n",
       "      <th>beat baseline</th>\n",
       "      <td>✅</td>\n",
       "      <td>0.51427</td>\n",
       "      <td>0.50</td>\n",
       "      <td>0.01427</td>\n",
       "    </tr>\n",
       "    <tr>\n",
       "      <th>stat sig</th>\n",
       "      <td>❌</td>\n",
       "      <td>NaN</td>\n",
       "      <td>0.05</td>\n",
       "      <td>NaN</td>\n",
       "    </tr>\n",
       "    <tr>\n",
       "      <th>experiment count</th>\n",
       "      <td>❌</td>\n",
       "      <td>1.00000</td>\n",
       "      <td>3.00</td>\n",
       "      <td>-2.00000</td>\n",
       "    </tr>\n",
       "    <tr>\n",
       "      <th>data size</th>\n",
       "      <td>✅</td>\n",
       "      <td>569.00000</td>\n",
       "      <td>100.00</td>\n",
       "      <td>469.00000</td>\n",
       "    </tr>\n",
       "  </tbody>\n",
       "</table>\n",
       "</div>"
      ],
      "text/plain": [
       "                 pass      value  threshold       gain\n",
       "check                                                 \n",
       "beat baseline       ✅    0.51427       0.50    0.01427\n",
       "stat sig            ❌        NaN       0.05        NaN\n",
       "experiment count    ❌    1.00000       3.00   -2.00000\n",
       "data size           ✅  569.00000     100.00  469.00000"
      ]
     },
     "execution_count": 18,
     "metadata": {},
     "output_type": "execute_result"
    }
   ],
   "source": [
    "np.random.seed(4)\n",
    "mlbench.eval_binary(\n",
    "    y_true=y,\n",
    "    y_pred=get_y_rand(y),\n",
    ").report"
   ]
  },
  {
   "cell_type": "markdown",
   "id": "88bf1761",
   "metadata": {},
   "source": [
    "### we shouldn't be able to get stat sig results with random guessing"
   ]
  },
  {
   "cell_type": "code",
   "execution_count": 20,
   "id": "9ca95c63",
   "metadata": {},
   "outputs": [
    {
     "data": {
      "text/html": [
       "<div>\n",
       "<style scoped>\n",
       "    .dataframe tbody tr th:only-of-type {\n",
       "        vertical-align: middle;\n",
       "    }\n",
       "\n",
       "    .dataframe tbody tr th {\n",
       "        vertical-align: top;\n",
       "    }\n",
       "\n",
       "    .dataframe thead th {\n",
       "        text-align: right;\n",
       "    }\n",
       "</style>\n",
       "<table border=\"1\" class=\"dataframe\">\n",
       "  <thead>\n",
       "    <tr style=\"text-align: right;\">\n",
       "      <th></th>\n",
       "      <th>pass</th>\n",
       "      <th>value</th>\n",
       "      <th>threshold</th>\n",
       "      <th>gain</th>\n",
       "    </tr>\n",
       "    <tr>\n",
       "      <th>check</th>\n",
       "      <th></th>\n",
       "      <th></th>\n",
       "      <th></th>\n",
       "      <th></th>\n",
       "    </tr>\n",
       "  </thead>\n",
       "  <tbody>\n",
       "    <tr>\n",
       "      <th>beat baseline</th>\n",
       "      <td>✅</td>\n",
       "      <td>0.510857</td>\n",
       "      <td>0.50</td>\n",
       "      <td>0.010857</td>\n",
       "    </tr>\n",
       "    <tr>\n",
       "      <th>stat sig</th>\n",
       "      <td>❌</td>\n",
       "      <td>0.210257</td>\n",
       "      <td>0.05</td>\n",
       "      <td>-0.160257</td>\n",
       "    </tr>\n",
       "    <tr>\n",
       "      <th>experiment count</th>\n",
       "      <td>✅</td>\n",
       "      <td>3.000000</td>\n",
       "      <td>3.00</td>\n",
       "      <td>0.000000</td>\n",
       "    </tr>\n",
       "    <tr>\n",
       "      <th>data size</th>\n",
       "      <td>✅</td>\n",
       "      <td>569.000000</td>\n",
       "      <td>100.00</td>\n",
       "      <td>469.000000</td>\n",
       "    </tr>\n",
       "  </tbody>\n",
       "</table>\n",
       "</div>"
      ],
      "text/plain": [
       "                 pass       value  threshold        gain\n",
       "check                                                   \n",
       "beat baseline       ✅    0.510857       0.50    0.010857\n",
       "stat sig            ❌    0.210257       0.05   -0.160257\n",
       "experiment count    ✅    3.000000       3.00    0.000000\n",
       "data size           ✅  569.000000     100.00  469.000000"
      ]
     },
     "execution_count": 20,
     "metadata": {},
     "output_type": "execute_result"
    }
   ],
   "source": [
    "np.random.seed(4)\n",
    "exp1 = get_y_rand(y)\n",
    "exp2 = get_y_rand(y)\n",
    "exp3 = get_y_rand(y)\n",
    "mlbench.eval_binary(\n",
    "    y_true=y,\n",
    "    y_pred=[exp1, exp2, exp3],\n",
    ").report"
   ]
  },
  {
   "cell_type": "code",
   "execution_count": 23,
   "id": "5121ba80",
   "metadata": {},
   "outputs": [
    {
     "data": {
      "text/html": [
       "<div>\n",
       "<style scoped>\n",
       "    .dataframe tbody tr th:only-of-type {\n",
       "        vertical-align: middle;\n",
       "    }\n",
       "\n",
       "    .dataframe tbody tr th {\n",
       "        vertical-align: top;\n",
       "    }\n",
       "\n",
       "    .dataframe thead th {\n",
       "        text-align: right;\n",
       "    }\n",
       "</style>\n",
       "<table border=\"1\" class=\"dataframe\">\n",
       "  <thead>\n",
       "    <tr style=\"text-align: right;\">\n",
       "      <th></th>\n",
       "      <th>pass</th>\n",
       "      <th>value</th>\n",
       "      <th>threshold</th>\n",
       "      <th>gain</th>\n",
       "    </tr>\n",
       "    <tr>\n",
       "      <th>check</th>\n",
       "      <th></th>\n",
       "      <th></th>\n",
       "      <th></th>\n",
       "      <th></th>\n",
       "    </tr>\n",
       "  </thead>\n",
       "  <tbody>\n",
       "    <tr>\n",
       "      <th>beat baseline</th>\n",
       "      <td>✅</td>\n",
       "      <td>0.502177</td>\n",
       "      <td>0.50</td>\n",
       "      <td>0.002177</td>\n",
       "    </tr>\n",
       "    <tr>\n",
       "      <th>stat sig</th>\n",
       "      <td>❌</td>\n",
       "      <td>0.332722</td>\n",
       "      <td>0.05</td>\n",
       "      <td>-0.282722</td>\n",
       "    </tr>\n",
       "    <tr>\n",
       "      <th>experiment count</th>\n",
       "      <td>✅</td>\n",
       "      <td>10.000000</td>\n",
       "      <td>3.00</td>\n",
       "      <td>7.000000</td>\n",
       "    </tr>\n",
       "    <tr>\n",
       "      <th>data size</th>\n",
       "      <td>✅</td>\n",
       "      <td>569.000000</td>\n",
       "      <td>100.00</td>\n",
       "      <td>469.000000</td>\n",
       "    </tr>\n",
       "  </tbody>\n",
       "</table>\n",
       "</div>"
      ],
      "text/plain": [
       "                 pass       value  threshold        gain\n",
       "check                                                   \n",
       "beat baseline       ✅    0.502177       0.50    0.002177\n",
       "stat sig            ❌    0.332722       0.05   -0.282722\n",
       "experiment count    ✅   10.000000       3.00    7.000000\n",
       "data size           ✅  569.000000     100.00  469.000000"
      ]
     },
     "execution_count": 23,
     "metadata": {},
     "output_type": "execute_result"
    }
   ],
   "source": [
    "np.random.seed(0)\n",
    "mlbench.eval_binary(\n",
    "    y_true=y,\n",
    "    y_pred=[get_y_rand(y) for _ in range(10)],\n",
    ").report"
   ]
  },
  {
   "cell_type": "markdown",
   "id": "ebbfb7bd",
   "metadata": {},
   "source": [
    "### a perfect predictor that can nail the predictions across 10 experiments\n",
    "this is stat sig"
   ]
  },
  {
   "cell_type": "code",
   "execution_count": 24,
   "id": "be57a0b8",
   "metadata": {},
   "outputs": [
    {
     "data": {
      "text/html": [
       "<div>\n",
       "<style scoped>\n",
       "    .dataframe tbody tr th:only-of-type {\n",
       "        vertical-align: middle;\n",
       "    }\n",
       "\n",
       "    .dataframe tbody tr th {\n",
       "        vertical-align: top;\n",
       "    }\n",
       "\n",
       "    .dataframe thead th {\n",
       "        text-align: right;\n",
       "    }\n",
       "</style>\n",
       "<table border=\"1\" class=\"dataframe\">\n",
       "  <thead>\n",
       "    <tr style=\"text-align: right;\">\n",
       "      <th></th>\n",
       "      <th>pass</th>\n",
       "      <th>value</th>\n",
       "      <th>threshold</th>\n",
       "      <th>gain</th>\n",
       "    </tr>\n",
       "    <tr>\n",
       "      <th>check</th>\n",
       "      <th></th>\n",
       "      <th></th>\n",
       "      <th></th>\n",
       "      <th></th>\n",
       "    </tr>\n",
       "  </thead>\n",
       "  <tbody>\n",
       "    <tr>\n",
       "      <th>beat baseline</th>\n",
       "      <td>✅</td>\n",
       "      <td>1.0</td>\n",
       "      <td>0.50</td>\n",
       "      <td>0.50</td>\n",
       "    </tr>\n",
       "    <tr>\n",
       "      <th>stat sig</th>\n",
       "      <td>✅</td>\n",
       "      <td>0.0</td>\n",
       "      <td>0.05</td>\n",
       "      <td>0.05</td>\n",
       "    </tr>\n",
       "    <tr>\n",
       "      <th>experiment count</th>\n",
       "      <td>✅</td>\n",
       "      <td>10.0</td>\n",
       "      <td>3.00</td>\n",
       "      <td>7.00</td>\n",
       "    </tr>\n",
       "    <tr>\n",
       "      <th>data size</th>\n",
       "      <td>✅</td>\n",
       "      <td>569.0</td>\n",
       "      <td>100.00</td>\n",
       "      <td>469.00</td>\n",
       "    </tr>\n",
       "  </tbody>\n",
       "</table>\n",
       "</div>"
      ],
      "text/plain": [
       "                 pass  value  threshold    gain\n",
       "check                                          \n",
       "beat baseline       ✅    1.0       0.50    0.50\n",
       "stat sig            ✅    0.0       0.05    0.05\n",
       "experiment count    ✅   10.0       3.00    7.00\n",
       "data size           ✅  569.0     100.00  469.00"
      ]
     },
     "execution_count": 24,
     "metadata": {},
     "output_type": "execute_result"
    }
   ],
   "source": [
    "mlbench.eval_binary(\n",
    "    y_true=y,\n",
    "    y_pred=[y] * 10,\n",
    ").report"
   ]
  },
  {
   "cell_type": "markdown",
   "id": "b5240846",
   "metadata": {},
   "source": [
    "### that's too easy, let's distort the predictions a bit\n",
    "this way we can simulate how well a model with a certain level of error does"
   ]
  },
  {
   "cell_type": "code",
   "execution_count": 25,
   "id": "66d66ea3",
   "metadata": {},
   "outputs": [],
   "source": [
    "def get_y_distorted(y, p):\n",
    "    mask = np.random.choice([True, False], size=len(y), p=[p, 1-p])\n",
    "    return np.where(mask, ~y, y)"
   ]
  },
  {
   "cell_type": "markdown",
   "id": "4e154e1b",
   "metadata": {},
   "source": [
    "### a model with 5% error"
   ]
  },
  {
   "cell_type": "code",
   "execution_count": 32,
   "id": "4184c2a7",
   "metadata": {},
   "outputs": [
    {
     "data": {
      "text/html": [
       "<div>\n",
       "<style scoped>\n",
       "    .dataframe tbody tr th:only-of-type {\n",
       "        vertical-align: middle;\n",
       "    }\n",
       "\n",
       "    .dataframe tbody tr th {\n",
       "        vertical-align: top;\n",
       "    }\n",
       "\n",
       "    .dataframe thead th {\n",
       "        text-align: right;\n",
       "    }\n",
       "</style>\n",
       "<table border=\"1\" class=\"dataframe\">\n",
       "  <thead>\n",
       "    <tr style=\"text-align: right;\">\n",
       "      <th></th>\n",
       "      <th>pass</th>\n",
       "      <th>value</th>\n",
       "      <th>threshold</th>\n",
       "      <th>gain</th>\n",
       "    </tr>\n",
       "    <tr>\n",
       "      <th>check</th>\n",
       "      <th></th>\n",
       "      <th></th>\n",
       "      <th></th>\n",
       "      <th></th>\n",
       "    </tr>\n",
       "  </thead>\n",
       "  <tbody>\n",
       "    <tr>\n",
       "      <th>beat baseline</th>\n",
       "      <td>✅</td>\n",
       "      <td>9.502689e-01</td>\n",
       "      <td>0.50</td>\n",
       "      <td>0.450269</td>\n",
       "    </tr>\n",
       "    <tr>\n",
       "      <th>stat sig</th>\n",
       "      <td>✅</td>\n",
       "      <td>1.495615e-19</td>\n",
       "      <td>0.05</td>\n",
       "      <td>0.050000</td>\n",
       "    </tr>\n",
       "    <tr>\n",
       "      <th>experiment count</th>\n",
       "      <td>✅</td>\n",
       "      <td>1.000000e+01</td>\n",
       "      <td>3.00</td>\n",
       "      <td>7.000000</td>\n",
       "    </tr>\n",
       "    <tr>\n",
       "      <th>data size</th>\n",
       "      <td>✅</td>\n",
       "      <td>5.690000e+02</td>\n",
       "      <td>100.00</td>\n",
       "      <td>469.000000</td>\n",
       "    </tr>\n",
       "  </tbody>\n",
       "</table>\n",
       "</div>"
      ],
      "text/plain": [
       "                 pass         value  threshold        gain\n",
       "check                                                     \n",
       "beat baseline       ✅  9.502689e-01       0.50    0.450269\n",
       "stat sig            ✅  1.495615e-19       0.05    0.050000\n",
       "experiment count    ✅  1.000000e+01       3.00    7.000000\n",
       "data size           ✅  5.690000e+02     100.00  469.000000"
      ]
     },
     "execution_count": 32,
     "metadata": {},
     "output_type": "execute_result"
    }
   ],
   "source": [
    "np.random.seed(0)\n",
    "mlbench.eval_binary(\n",
    "    y_true=y,\n",
    "    y_pred=[get_y_distorted(y=y, p=0.05) for _ in range(10)],\n",
    ").report"
   ]
  },
  {
   "cell_type": "markdown",
   "id": "de0bd3b7",
   "metadata": {},
   "source": [
    "### model with 40% error"
   ]
  },
  {
   "cell_type": "code",
   "execution_count": 34,
   "id": "08e37ac3",
   "metadata": {},
   "outputs": [
    {
     "data": {
      "text/html": [
       "<div>\n",
       "<style scoped>\n",
       "    .dataframe tbody tr th:only-of-type {\n",
       "        vertical-align: middle;\n",
       "    }\n",
       "\n",
       "    .dataframe tbody tr th {\n",
       "        vertical-align: top;\n",
       "    }\n",
       "\n",
       "    .dataframe thead th {\n",
       "        text-align: right;\n",
       "    }\n",
       "</style>\n",
       "<table border=\"1\" class=\"dataframe\">\n",
       "  <thead>\n",
       "    <tr style=\"text-align: right;\">\n",
       "      <th></th>\n",
       "      <th>pass</th>\n",
       "      <th>value</th>\n",
       "      <th>threshold</th>\n",
       "      <th>gain</th>\n",
       "    </tr>\n",
       "    <tr>\n",
       "      <th>check</th>\n",
       "      <th></th>\n",
       "      <th></th>\n",
       "      <th></th>\n",
       "      <th></th>\n",
       "    </tr>\n",
       "  </thead>\n",
       "  <tbody>\n",
       "    <tr>\n",
       "      <th>beat baseline</th>\n",
       "      <td>✅</td>\n",
       "      <td>5.977439e-01</td>\n",
       "      <td>0.50</td>\n",
       "      <td>0.097744</td>\n",
       "    </tr>\n",
       "    <tr>\n",
       "      <th>stat sig</th>\n",
       "      <td>✅</td>\n",
       "      <td>6.115514e-08</td>\n",
       "      <td>0.05</td>\n",
       "      <td>0.050000</td>\n",
       "    </tr>\n",
       "    <tr>\n",
       "      <th>experiment count</th>\n",
       "      <td>✅</td>\n",
       "      <td>1.000000e+01</td>\n",
       "      <td>3.00</td>\n",
       "      <td>7.000000</td>\n",
       "    </tr>\n",
       "    <tr>\n",
       "      <th>data size</th>\n",
       "      <td>✅</td>\n",
       "      <td>5.690000e+02</td>\n",
       "      <td>100.00</td>\n",
       "      <td>469.000000</td>\n",
       "    </tr>\n",
       "  </tbody>\n",
       "</table>\n",
       "</div>"
      ],
      "text/plain": [
       "                 pass         value  threshold        gain\n",
       "check                                                     \n",
       "beat baseline       ✅  5.977439e-01       0.50    0.097744\n",
       "stat sig            ✅  6.115514e-08       0.05    0.050000\n",
       "experiment count    ✅  1.000000e+01       3.00    7.000000\n",
       "data size           ✅  5.690000e+02     100.00  469.000000"
      ]
     },
     "execution_count": 34,
     "metadata": {},
     "output_type": "execute_result"
    }
   ],
   "source": [
    "np.random.seed(0)\n",
    "good = mlbench.eval_binary(\n",
    "    y_true=y,\n",
    "    y_pred=[get_y_distorted(y=y, p=0.4) for _ in range(10)],\n",
    ")\n",
    "good.report"
   ]
  },
  {
   "cell_type": "markdown",
   "id": "76b3f35a",
   "metadata": {},
   "source": [
    "### visualize\n",
    "- shows the metric distribution across the 10 experiments\n",
    "- note that all fall in the green zone (i.e. above the baseline value of 0.5)\n",
    "- the blue / purple region indicates the inter quartile range IQR\n",
    "- IQR is the region between 25th and 75th percentile of results (similar to a boxplot)"
   ]
  },
  {
   "cell_type": "code",
   "execution_count": 35,
   "id": "b6dd8427",
   "metadata": {},
   "outputs": [
    {
     "data": {
      "image/png": "[encoded data removed]",
      "text/plain": [
       "<Figure size 720x72 with 1 Axes>"
      ]
     },
     "metadata": {
      "needs_background": "light"
     },
     "output_type": "display_data"
    }
   ],
   "source": [
    "good.draw()"
   ]
  },
  {
   "cell_type": "markdown",
   "id": "fa64b57d",
   "metadata": {},
   "source": [
    "### how about a model with 50% error"
   ]
  },
  {
   "cell_type": "code",
   "execution_count": 37,
   "id": "6bb1b3cf",
   "metadata": {},
   "outputs": [
    {
     "data": {
      "text/html": [
       "<div>\n",
       "<style scoped>\n",
       "    .dataframe tbody tr th:only-of-type {\n",
       "        vertical-align: middle;\n",
       "    }\n",
       "\n",
       "    .dataframe tbody tr th {\n",
       "        vertical-align: top;\n",
       "    }\n",
       "\n",
       "    .dataframe thead th {\n",
       "        text-align: right;\n",
       "    }\n",
       "</style>\n",
       "<table border=\"1\" class=\"dataframe\">\n",
       "  <thead>\n",
       "    <tr style=\"text-align: right;\">\n",
       "      <th></th>\n",
       "      <th>pass</th>\n",
       "      <th>value</th>\n",
       "      <th>threshold</th>\n",
       "      <th>gain</th>\n",
       "    </tr>\n",
       "    <tr>\n",
       "      <th>check</th>\n",
       "      <th></th>\n",
       "      <th></th>\n",
       "      <th></th>\n",
       "      <th></th>\n",
       "    </tr>\n",
       "  </thead>\n",
       "  <tbody>\n",
       "    <tr>\n",
       "      <th>beat baseline</th>\n",
       "      <td>❌</td>\n",
       "      <td>0.493484</td>\n",
       "      <td>0.50</td>\n",
       "      <td>-0.006516</td>\n",
       "    </tr>\n",
       "    <tr>\n",
       "      <th>stat sig</th>\n",
       "      <td>❌</td>\n",
       "      <td>0.827176</td>\n",
       "      <td>0.05</td>\n",
       "      <td>-0.777176</td>\n",
       "    </tr>\n",
       "    <tr>\n",
       "      <th>experiment count</th>\n",
       "      <td>✅</td>\n",
       "      <td>10.000000</td>\n",
       "      <td>3.00</td>\n",
       "      <td>7.000000</td>\n",
       "    </tr>\n",
       "    <tr>\n",
       "      <th>data size</th>\n",
       "      <td>✅</td>\n",
       "      <td>569.000000</td>\n",
       "      <td>100.00</td>\n",
       "      <td>469.000000</td>\n",
       "    </tr>\n",
       "  </tbody>\n",
       "</table>\n",
       "</div>"
      ],
      "text/plain": [
       "                 pass       value  threshold        gain\n",
       "check                                                   \n",
       "beat baseline       ❌    0.493484       0.50   -0.006516\n",
       "stat sig            ❌    0.827176       0.05   -0.777176\n",
       "experiment count    ✅   10.000000       3.00    7.000000\n",
       "data size           ✅  569.000000     100.00  469.000000"
      ]
     },
     "execution_count": 37,
     "metadata": {},
     "output_type": "execute_result"
    }
   ],
   "source": [
    "np.random.seed(0)\n",
    "bad = mlbench.eval_binary(\n",
    "    y_true=y,\n",
    "    y_pred=[get_y_distorted(y=y, p=0.50) for _ in range(10)],\n",
    ")\n",
    "bad.report"
   ]
  },
  {
   "cell_type": "markdown",
   "id": "deea6b07",
   "metadata": {},
   "source": [
    "### visualization shows that we don't have a reliable model\n",
    "intuitively this matches up with the fact that the results are not stat sig"
   ]
  },
  {
   "cell_type": "code",
   "execution_count": 38,
   "id": "bd0e4b5d",
   "metadata": {},
   "outputs": [
    {
     "data": {
      "image/png": "[encoded data removed]",
      "text/plain": [
       "<Figure size 720x72 with 1 Axes>"
      ]
     },
     "metadata": {
      "needs_background": "light"
     },
     "output_type": "display_data"
    }
   ],
   "source": [
    "bad.draw()"
   ]
  },
  {
   "cell_type": "markdown",
   "id": "0d7b2e60",
   "metadata": {},
   "source": [
    "### remove IQR to see things a bit more clearly"
   ]
  },
  {
   "cell_type": "code",
   "execution_count": 39,
   "id": "a05f2220",
   "metadata": {},
   "outputs": [
    {
     "data": {
      "image/png": "[encoded data removed]",
      "text/plain": [
       "<Figure size 720x72 with 1 Axes>"
      ]
     },
     "metadata": {
      "needs_background": "light"
     },
     "output_type": "display_data"
    }
   ],
   "source": [
    "bad.draw(p_low=None, p_high=None)"
   ]
  }
 ],
 "metadata": {
  "kernelspec": {
   "display_name": "Python 3 (ipykernel)",
   "language": "python",
   "name": "python3"
  },
  "language_info": {
   "codemirror_mode": {
    "name": "ipython",
    "version": 3
   },
   "file_extension": ".py",
   "mimetype": "text/x-python",
   "name": "python",
   "nbconvert_exporter": "python",
   "pygments_lexer": "ipython3",
   "version": "3.9.12"
  }
 },
 "nbformat": 4,
 "nbformat_minor": 5
}
